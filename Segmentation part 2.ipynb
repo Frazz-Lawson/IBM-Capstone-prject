{
    "cells": [
        {
            "metadata": {},
            "cell_type": "code",
            "source": "import requests\nimport lxml.html as lh\nimport pandas as pd\nimport numpy as np",
            "execution_count": 1,
            "outputs": []
        },
        {
            "metadata": {},
            "cell_type": "code",
            "source": "url='https://en.wikipedia.org/wiki/List_of_postal_codes_of_Canada:_M'#Create a handle, page, to handle the contents of the website\npage = requests.get(url)#Store the contents of the website under doc\ndoc = lh.fromstring(page.content)#Parse data that are stored between <tr>..</tr> of HTML\ntr_elements = doc.xpath('//tr')",
            "execution_count": 2,
            "outputs": []
        },
        {
            "metadata": {},
            "cell_type": "code",
            "source": "[len(T) for T in tr_elements[:12]]",
            "execution_count": 3,
            "outputs": [
                {
                    "output_type": "execute_result",
                    "execution_count": 3,
                    "data": {
                        "text/plain": "[3, 3, 3, 3, 3, 3, 3, 3, 3, 3, 3, 3]"
                    },
                    "metadata": {}
                }
            ]
        },
        {
            "metadata": {},
            "cell_type": "code",
            "source": "tr_elements = doc.xpath('//tr')#Create empty list\ncol=[]\ni=0#For each row, store each first element (header) and an empty list\nfor t in tr_elements[0]:\n    i+=1\n    name=t.text_content()\n    print (i,name)\n    col.append((name,[]))",
            "execution_count": 4,
            "outputs": [
                {
                    "output_type": "stream",
                    "text": "1 Postcode\n2 Borough\n3 Neighbourhood\n\n",
                    "name": "stdout"
                }
            ]
        },
        {
            "metadata": {},
            "cell_type": "code",
            "source": "#Since out first row is the header, data is stored on the second row onwards\nfor j in range(1,len(tr_elements)):\n    #T is our j'th row\n    T=tr_elements[j]\n    \n    #If row is not of size 3, the //tr data is not from our table \n    if len(T)!=3:\n        break\n    \n    #i is the index of our column\n    i=0\n    \n    #Iterate through each element of the row\n    for t in T.iterchildren():\n        data=t.text_content() \n        #Check if row is empty\n        if i>0:\n        #Convert any numerical value to integers\n            try:\n                data=int(data)\n            except:\n                pass\n            \n        #Append the data to the empty list of the i'th column\n        col[i][1].append(data)\n        #Increment i for the next column\n        i+=1",
            "execution_count": 5,
            "outputs": []
        },
        {
            "metadata": {},
            "cell_type": "code",
            "source": "[len(C) for (title,C) in col]",
            "execution_count": 6,
            "outputs": [
                {
                    "output_type": "execute_result",
                    "execution_count": 6,
                    "data": {
                        "text/plain": "[287, 287, 287]"
                    },
                    "metadata": {}
                }
            ]
        },
        {
            "metadata": {},
            "cell_type": "code",
            "source": "Dict={title:column for (title,column) in col}\ndf=pd.DataFrame(Dict)",
            "execution_count": 7,
            "outputs": []
        },
        {
            "metadata": {},
            "cell_type": "code",
            "source": "df.head()",
            "execution_count": 8,
            "outputs": [
                {
                    "output_type": "execute_result",
                    "execution_count": 8,
                    "data": {
                        "text/plain": "  Postcode           Borough     Neighbourhood\\n\n0      M1A      Not assigned      Not assigned\\n\n1      M2A      Not assigned      Not assigned\\n\n2      M3A        North York         Parkwoods\\n\n3      M4A        North York  Victoria Village\\n\n4      M5A  Downtown Toronto      Harbourfront\\n",
                        "text/html": "<div>\n<style scoped>\n    .dataframe tbody tr th:only-of-type {\n        vertical-align: middle;\n    }\n\n    .dataframe tbody tr th {\n        vertical-align: top;\n    }\n\n    .dataframe thead th {\n        text-align: right;\n    }\n</style>\n<table border=\"1\" class=\"dataframe\">\n  <thead>\n    <tr style=\"text-align: right;\">\n      <th></th>\n      <th>Postcode</th>\n      <th>Borough</th>\n      <th>Neighbourhood</th>\n    </tr>\n  </thead>\n  <tbody>\n    <tr>\n      <th>0</th>\n      <td>M1A</td>\n      <td>Not assigned</td>\n      <td>Not assigned\\n</td>\n    </tr>\n    <tr>\n      <th>1</th>\n      <td>M2A</td>\n      <td>Not assigned</td>\n      <td>Not assigned\\n</td>\n    </tr>\n    <tr>\n      <th>2</th>\n      <td>M3A</td>\n      <td>North York</td>\n      <td>Parkwoods\\n</td>\n    </tr>\n    <tr>\n      <th>3</th>\n      <td>M4A</td>\n      <td>North York</td>\n      <td>Victoria Village\\n</td>\n    </tr>\n    <tr>\n      <th>4</th>\n      <td>M5A</td>\n      <td>Downtown Toronto</td>\n      <td>Harbourfront\\n</td>\n    </tr>\n  </tbody>\n</table>\n</div>"
                    },
                    "metadata": {}
                }
            ]
        },
        {
            "metadata": {},
            "cell_type": "code",
            "source": "df = df.replace(r'\\n',' ', regex=True)\ndf.columns = ['Postcode', 'Borough', 'Neighbourhood']\ndf.columns",
            "execution_count": 9,
            "outputs": [
                {
                    "output_type": "execute_result",
                    "execution_count": 9,
                    "data": {
                        "text/plain": "Index(['Postcode', 'Borough', 'Neighbourhood'], dtype='object')"
                    },
                    "metadata": {}
                }
            ]
        },
        {
            "metadata": {},
            "cell_type": "code",
            "source": "df = df[~df.Borough.str.contains(\"Not assigned\")]\ndf = df.groupby(['Postcode','Borough'])['Neighbourhood'].apply(', '.join).reset_index()\ndf['Neighbourhood'] = np.where(df.Neighbourhood.str.contains ('Not assigned'), df.Borough, df.Neighbourhood)\ndf.head()\n",
            "execution_count": 10,
            "outputs": [
                {
                    "output_type": "execute_result",
                    "execution_count": 10,
                    "data": {
                        "text/plain": "  Postcode      Borough                              Neighbourhood\n0      M1B  Scarborough                           Rouge , Malvern \n1      M1C  Scarborough  Highland Creek , Rouge Hill , Port Union \n2      M1E  Scarborough       Guildwood , Morningside , West Hill \n3      M1G  Scarborough                                    Woburn \n4      M1H  Scarborough                                 Cedarbrae ",
                        "text/html": "<div>\n<style scoped>\n    .dataframe tbody tr th:only-of-type {\n        vertical-align: middle;\n    }\n\n    .dataframe tbody tr th {\n        vertical-align: top;\n    }\n\n    .dataframe thead th {\n        text-align: right;\n    }\n</style>\n<table border=\"1\" class=\"dataframe\">\n  <thead>\n    <tr style=\"text-align: right;\">\n      <th></th>\n      <th>Postcode</th>\n      <th>Borough</th>\n      <th>Neighbourhood</th>\n    </tr>\n  </thead>\n  <tbody>\n    <tr>\n      <th>0</th>\n      <td>M1B</td>\n      <td>Scarborough</td>\n      <td>Rouge , Malvern</td>\n    </tr>\n    <tr>\n      <th>1</th>\n      <td>M1C</td>\n      <td>Scarborough</td>\n      <td>Highland Creek , Rouge Hill , Port Union</td>\n    </tr>\n    <tr>\n      <th>2</th>\n      <td>M1E</td>\n      <td>Scarborough</td>\n      <td>Guildwood , Morningside , West Hill</td>\n    </tr>\n    <tr>\n      <th>3</th>\n      <td>M1G</td>\n      <td>Scarborough</td>\n      <td>Woburn</td>\n    </tr>\n    <tr>\n      <th>4</th>\n      <td>M1H</td>\n      <td>Scarborough</td>\n      <td>Cedarbrae</td>\n    </tr>\n  </tbody>\n</table>\n</div>"
                    },
                    "metadata": {}
                }
            ]
        },
        {
            "metadata": {},
            "cell_type": "code",
            "source": "df.shape",
            "execution_count": 11,
            "outputs": [
                {
                    "output_type": "execute_result",
                    "execution_count": 11,
                    "data": {
                        "text/plain": "(103, 3)"
                    },
                    "metadata": {}
                }
            ]
        },
        {
            "metadata": {},
            "cell_type": "code",
            "source": "!wget -O latlongs http://cocl.us/Geospatial_data",
            "execution_count": 12,
            "outputs": [
                {
                    "output_type": "stream",
                    "text": "--2020-02-11 13:51:26--  http://cocl.us/Geospatial_data\nResolving cocl.us (cocl.us)... 159.8.69.24, 159.8.72.228, 159.8.69.21\nConnecting to cocl.us (cocl.us)|159.8.69.24|:80... connected.\nHTTP request sent, awaiting response... 301 Moved Permanently\nLocation: https://cocl.us/Geospatial_data [following]\n--2020-02-11 13:51:26--  https://cocl.us/Geospatial_data\nConnecting to cocl.us (cocl.us)|159.8.69.24|:443... connected.\nHTTP request sent, awaiting response... 301 Moved Permanently\nLocation: https://ibm.box.com/shared/static/9afzr83pps4pwf2smjjcf1y5mvgb18rr.csv [following]\n--2020-02-11 13:51:28--  https://ibm.box.com/shared/static/9afzr83pps4pwf2smjjcf1y5mvgb18rr.csv\nResolving ibm.box.com (ibm.box.com)... 185.235.236.197\nConnecting to ibm.box.com (ibm.box.com)|185.235.236.197|:443... connected.\nHTTP request sent, awaiting response... 301 Moved Permanently\nLocation: /public/static/9afzr83pps4pwf2smjjcf1y5mvgb18rr.csv [following]\n--2020-02-11 13:51:30--  https://ibm.box.com/public/static/9afzr83pps4pwf2smjjcf1y5mvgb18rr.csv\nReusing existing connection to ibm.box.com:443.\nHTTP request sent, awaiting response... 301 Moved Permanently\nLocation: https://ibm.ent.box.com/public/static/9afzr83pps4pwf2smjjcf1y5mvgb18rr.csv [following]\n--2020-02-11 13:51:30--  https://ibm.ent.box.com/public/static/9afzr83pps4pwf2smjjcf1y5mvgb18rr.csv\nResolving ibm.ent.box.com (ibm.ent.box.com)... 185.235.236.211\nConnecting to ibm.ent.box.com (ibm.ent.box.com)|185.235.236.211|:443... connected.\nHTTP request sent, awaiting response... 302 Found\nLocation: https://public.boxcloud.com/d/1/b1!fk2W8vfdZNU4JJJkUr2hV6in_yY0Wty7MXI0WUHHAgFH_5AVWtCbXawKpVNosSl4HOD9D6xJr60sQE45kGkumbe_SLDutLQTnUymatNpYmFCt9-RINBlKdPrgBwkuw7JhRH20d5Ht6T-pGmS1rWtsErWpBuzGufCeDPhUZFkSkmlx61d2sYJ68ZQTHFFslw8josqQ9H0cZBjua9KO1tg8H6rzgZRuTXvPtaKOcTRcMxUikI4VuNMwqnMXI89gqEiCR0-yq8_6NDvAoQVCFc8kAnm4FLNEqYPoqPgu4LKcz3HT_E1cBD1UyzRqcJNPVP5yRYgMKjuLGSNwNKSKA-V5_9EcOK9jKQFXuyviIUPxAfftovSKEy7ofkiI2ooNOCrLhOtF5y5K5PPBEi0y9Pr2q7xj6lNpEzMHQz34IYywemzPSStyckdgCAGsm8NHV1upSlV_DYaTEcmBuYh-4yTqcw7V9Pqh5BUdlGa_q9BNuNkV_8YfLIELenFLe35PZgHos0h6rxx2x5GLjaqvrQlbwKeEHEXFxd8w5JDazIMQlB82z3FqpJcwWdXtoouF4YTWzlw95VE3wRD-Qy1LPqmLh3PTdc_mAX6OQGE0O9HB9B8gPEuInEaWWoIMJEycBieHysAwgSd8IrbM-muEnln3Mf6jPy1gDjIICgAPKI9Qi0OE6eSdI57OFjyvMBHSMdIrDDuckJ39rvYEmj9ISDvmSnNT7eptsyBm8I9m9i0RqTNJzX1KH-4pKLVenKDTIJQ8vXSR-IObS4-WEAeGB-AiHPG6wVKDQpFykHm-lLTUNA24K9FiaK1o8JHSIijbYhvT4KQ623vNvbtpJKFoiFi8A_FOTFB9Nl1C4ZkGNQAQCwLfBiqRypnmIfsIF3ZwzAxzoh3FqSSmp4JB9UEyyK6M4Xzzt9t5XkjpNDus6I9m1dN4UL32pMYrqko1VqD5OZLbBAQ6BpjVkm1ssaZhACOrCmBE711NWx2vO2EhUrgFq8tJAzrS404VO0r974keFMN3kkc1cqsyqZPM6lV-2z3zgt3UDY0gLxUOagwVlejnRSXYOj2rTernZA5ZqNs_3vi_fE57q4rDc9IQ3TWRSlnzIvaY3CQ9JYhOBCTbfaeXmpSpq49jgIBpnJdETn1aAL1-UVxmL-vZPfAjgZYA0k1m2d63vCnNoNWNgcWAAbi0eOjFRsrj07kdCsEO-187vocX6EGywjQQ5-vDlr8nTohieRUqKgxM5PNcutPU7CX6s32eX73qiw3mdMQ0t69c_OpHgLOk5TzlCkkG0vbsGuiIBj-o0KA9H8h3T4afP63AHpX-oCn32bMsAQHnwM-UZWX63ecLwIEQm7Zci1r9jT8DVgHibL4trXq4hnV1tW9A8BgAw8szvEMfgXZ8jUk5xY./download [following]\n--2020-02-11 13:51:31--  https://public.boxcloud.com/d/1/b1!fk2W8vfdZNU4JJJkUr2hV6in_yY0Wty7MXI0WUHHAgFH_5AVWtCbXawKpVNosSl4HOD9D6xJr60sQE45kGkumbe_SLDutLQTnUymatNpYmFCt9-RINBlKdPrgBwkuw7JhRH20d5Ht6T-pGmS1rWtsErWpBuzGufCeDPhUZFkSkmlx61d2sYJ68ZQTHFFslw8josqQ9H0cZBjua9KO1tg8H6rzgZRuTXvPtaKOcTRcMxUikI4VuNMwqnMXI89gqEiCR0-yq8_6NDvAoQVCFc8kAnm4FLNEqYPoqPgu4LKcz3HT_E1cBD1UyzRqcJNPVP5yRYgMKjuLGSNwNKSKA-V5_9EcOK9jKQFXuyviIUPxAfftovSKEy7ofkiI2ooNOCrLhOtF5y5K5PPBEi0y9Pr2q7xj6lNpEzMHQz34IYywemzPSStyckdgCAGsm8NHV1upSlV_DYaTEcmBuYh-4yTqcw7V9Pqh5BUdlGa_q9BNuNkV_8YfLIELenFLe35PZgHos0h6rxx2x5GLjaqvrQlbwKeEHEXFxd8w5JDazIMQlB82z3FqpJcwWdXtoouF4YTWzlw95VE3wRD-Qy1LPqmLh3PTdc_mAX6OQGE0O9HB9B8gPEuInEaWWoIMJEycBieHysAwgSd8IrbM-muEnln3Mf6jPy1gDjIICgAPKI9Qi0OE6eSdI57OFjyvMBHSMdIrDDuckJ39rvYEmj9ISDvmSnNT7eptsyBm8I9m9i0RqTNJzX1KH-4pKLVenKDTIJQ8vXSR-IObS4-WEAeGB-AiHPG6wVKDQpFykHm-lLTUNA24K9FiaK1o8JHSIijbYhvT4KQ623vNvbtpJKFoiFi8A_FOTFB9Nl1C4ZkGNQAQCwLfBiqRypnmIfsIF3ZwzAxzoh3FqSSmp4JB9UEyyK6M4Xzzt9t5XkjpNDus6I9m1dN4UL32pMYrqko1VqD5OZLbBAQ6BpjVkm1ssaZhACOrCmBE711NWx2vO2EhUrgFq8tJAzrS404VO0r974keFMN3kkc1cqsyqZPM6lV-2z3zgt3UDY0gLxUOagwVlejnRSXYOj2rTernZA5ZqNs_3vi_fE57q4rDc9IQ3TWRSlnzIvaY3CQ9JYhOBCTbfaeXmpSpq49jgIBpnJdETn1aAL1-UVxmL-vZPfAjgZYA0k1m2d63vCnNoNWNgcWAAbi0eOjFRsrj07kdCsEO-187vocX6EGywjQQ5-vDlr8nTohieRUqKgxM5PNcutPU7CX6s32eX73qiw3mdMQ0t69c_OpHgLOk5TzlCkkG0vbsGuiIBj-o0KA9H8h3T4afP63AHpX-oCn32bMsAQHnwM-UZWX63ecLwIEQm7Zci1r9jT8DVgHibL4trXq4hnV1tW9A8BgAw8szvEMfgXZ8jUk5xY./download\nResolving public.boxcloud.com (public.boxcloud.com)... 185.235.236.200\nConnecting to public.boxcloud.com (public.boxcloud.com)|185.235.236.200|:443... connected.\nHTTP request sent, awaiting response... 200 OK\nLength: 2891 (2.8K) [text/csv]\nSaving to: \u2018latlongs\u2019\n\n100%[======================================>] 2,891       --.-K/s   in 0s      \n\n2020-02-11 13:51:32 (255 MB/s) - \u2018latlongs\u2019 saved [2891/2891]\n\n",
                    "name": "stdout"
                }
            ]
        },
        {
            "metadata": {},
            "cell_type": "code",
            "source": "dfll = pd.read_csv('latlongs')\ndfll.head()",
            "execution_count": 13,
            "outputs": [
                {
                    "output_type": "execute_result",
                    "execution_count": 13,
                    "data": {
                        "text/plain": "  Postal Code   Latitude  Longitude\n0         M1B  43.806686 -79.194353\n1         M1C  43.784535 -79.160497\n2         M1E  43.763573 -79.188711\n3         M1G  43.770992 -79.216917\n4         M1H  43.773136 -79.239476",
                        "text/html": "<div>\n<style scoped>\n    .dataframe tbody tr th:only-of-type {\n        vertical-align: middle;\n    }\n\n    .dataframe tbody tr th {\n        vertical-align: top;\n    }\n\n    .dataframe thead th {\n        text-align: right;\n    }\n</style>\n<table border=\"1\" class=\"dataframe\">\n  <thead>\n    <tr style=\"text-align: right;\">\n      <th></th>\n      <th>Postal Code</th>\n      <th>Latitude</th>\n      <th>Longitude</th>\n    </tr>\n  </thead>\n  <tbody>\n    <tr>\n      <th>0</th>\n      <td>M1B</td>\n      <td>43.806686</td>\n      <td>-79.194353</td>\n    </tr>\n    <tr>\n      <th>1</th>\n      <td>M1C</td>\n      <td>43.784535</td>\n      <td>-79.160497</td>\n    </tr>\n    <tr>\n      <th>2</th>\n      <td>M1E</td>\n      <td>43.763573</td>\n      <td>-79.188711</td>\n    </tr>\n    <tr>\n      <th>3</th>\n      <td>M1G</td>\n      <td>43.770992</td>\n      <td>-79.216917</td>\n    </tr>\n    <tr>\n      <th>4</th>\n      <td>M1H</td>\n      <td>43.773136</td>\n      <td>-79.239476</td>\n    </tr>\n  </tbody>\n</table>\n</div>"
                    },
                    "metadata": {}
                }
            ]
        },
        {
            "metadata": {},
            "cell_type": "code",
            "source": "dat1 = pd.concat([df, dfll], axis=1)\ndat1.drop('Postal Code', axis = 1)\ndat1",
            "execution_count": 15,
            "outputs": [
                {
                    "output_type": "execute_result",
                    "execution_count": 15,
                    "data": {
                        "text/plain": "    Postcode           Borough  \\\n0        M1B       Scarborough   \n1        M1C       Scarborough   \n2        M1E       Scarborough   \n3        M1G       Scarborough   \n4        M1H       Scarborough   \n5        M1J       Scarborough   \n6        M1K       Scarborough   \n7        M1L       Scarborough   \n8        M1M       Scarborough   \n9        M1N       Scarborough   \n10       M1P       Scarborough   \n11       M1R       Scarborough   \n12       M1S       Scarborough   \n13       M1T       Scarborough   \n14       M1V       Scarborough   \n15       M1W       Scarborough   \n16       M1X       Scarborough   \n17       M2H        North York   \n18       M2J        North York   \n19       M2K        North York   \n20       M2L        North York   \n21       M2M        North York   \n22       M2N        North York   \n23       M2P        North York   \n24       M2R        North York   \n25       M3A        North York   \n26       M3B        North York   \n27       M3C        North York   \n28       M3H        North York   \n29       M3J        North York   \n..       ...               ...   \n73       M6C              York   \n74       M6E              York   \n75       M6G  Downtown Toronto   \n76       M6H      West Toronto   \n77       M6J      West Toronto   \n78       M6K      West Toronto   \n79       M6L        North York   \n80       M6M              York   \n81       M6N              York   \n82       M6P      West Toronto   \n83       M6R      West Toronto   \n84       M6S      West Toronto   \n85       M7A  Downtown Toronto   \n86       M7R       Mississauga   \n87       M7Y      East Toronto   \n88       M8V         Etobicoke   \n89       M8W         Etobicoke   \n90       M8X         Etobicoke   \n91       M8Y         Etobicoke   \n92       M8Z         Etobicoke   \n93       M9A      Queen's Park   \n94       M9B         Etobicoke   \n95       M9C         Etobicoke   \n96       M9L        North York   \n97       M9M        North York   \n98       M9N              York   \n99       M9P         Etobicoke   \n100      M9R         Etobicoke   \n101      M9V         Etobicoke   \n102      M9W         Etobicoke   \n\n                                         Neighbourhood Postal Code   Latitude  \\\n0                                     Rouge , Malvern          M1B  43.806686   \n1            Highland Creek , Rouge Hill , Port Union          M1C  43.784535   \n2                 Guildwood , Morningside , West Hill          M1E  43.763573   \n3                                              Woburn          M1G  43.770992   \n4                                           Cedarbrae          M1H  43.773136   \n5                                 Scarborough Village          M1J  43.744734   \n6       East Birchmount Park , Ionview , Kennedy Park          M1K  43.727929   \n7                   Clairlea , Golden Mile , Oakridge          M1L  43.711112   \n8    Cliffcrest , Cliffside , Scarborough Village W...         M1M  43.716316   \n9                        Birch Cliff , Cliffside West          M1N  43.692657   \n10   Dorset Park , Scarborough Town Centre , Wexfor...         M1P  43.757410   \n11                                 Maryvale , Wexford          M1R  43.750072   \n12                                          Agincourt          M1S  43.794200   \n13          Clarks Corners , Sullivan , Tam O'Shanter          M1T  43.781638   \n14   Agincourt North , L'Amoreaux East , Milliken ,...         M1V  43.815252   \n15                                    L'Amoreaux West          M1W  43.799525   \n16                                        Upper Rouge          M1X  43.836125   \n17                                  Hillcrest Village          M2H  43.803762   \n18                     Fairview , Henry Farm , Oriole          M2J  43.778517   \n19                                    Bayview Village          M2K  43.786947   \n20                          Silver Hills , York Mills          M2L  43.757490   \n21                           Newtonbrook , Willowdale          M2M  43.789053   \n22                                   Willowdale South          M2N  43.770120   \n23                                    York Mills West          M2P  43.752758   \n24                                    Willowdale West          M2R  43.782736   \n25                                          Parkwoods          M3A  43.753259   \n26                                    Don Mills North          M3B  43.745906   \n27                  Flemingdon Park , Don Mills South          M3C  43.725900   \n28   Bathurst Manor , Downsview North , Wilson Heig...         M3H  43.754328   \n29                   Northwood Park , York University          M3J  43.767980   \n..                                                 ...         ...        ...   \n73                                 Humewood-Cedarvale          M6C  43.693781   \n74                                Caledonia-Fairbanks          M6E  43.689026   \n75                                           Christie          M6G  43.669542   \n76                      Dovercourt Village , Dufferin          M6H  43.669005   \n77                          Little Portugal , Trinity          M6J  43.647927   \n78     Brockton , Exhibition Place , Parkdale Village          M6K  43.636847   \n79               Downsview , North Park , Upwood Park          M6L  43.713756   \n80   Del Ray , Keelesdale , Mount Dennis , Silverth...         M6M  43.691116   \n81                     The Junction North , Runnymede          M6N  43.673185   \n82                     High Park , The Junction South          M6P  43.661608   \n83                            Parkdale , Roncesvalles          M6R  43.648960   \n84                                Runnymede , Swansea          M6S  43.651571   \n85                                       Queen's Park          M7A  43.662301   \n86              Canada Post Gateway Processing Centre          M7R  43.636966   \n87   Business Reply Mail Processing Centre 969 East...         M7Y  43.662744   \n88     Humber Bay Shores , Mimico South , New Toronto          M8V  43.605647   \n89                            Alderwood , Long Branch          M8W  43.602414   \n90    The Kingsway , Montgomery Road , Old Mill North          M8X  43.653654   \n91   Humber Bay , King's Mill Park , Kingsway Park ...         M8Y  43.636258   \n92   Kingsway Park South West , Mimico NW , The Que...         M8Z  43.628841   \n93                                        Queen's Park         M9A  43.667856   \n94   Cloverdale , Islington , Martin Grove , Prince...         M9B  43.650943   \n95   Bloordale Gardens , Eringate , Markland Wood ,...         M9C  43.643515   \n96                                      Humber Summit          M9L  43.756303   \n97                                  Emery , Humberlea          M9M  43.724766   \n98                                             Weston          M9N  43.706876   \n99                                          Westmount          M9P  43.696319   \n100  Kingsview Village , Martin Grove Gardens , Ric...         M9R  43.688905   \n101  Albion Gardens , Beaumond Heights , Humbergate...         M9V  43.739416   \n102                                         Northwest          M9W  43.706748   \n\n     Longitude  \n0   -79.194353  \n1   -79.160497  \n2   -79.188711  \n3   -79.216917  \n4   -79.239476  \n5   -79.239476  \n6   -79.262029  \n7   -79.284577  \n8   -79.239476  \n9   -79.264848  \n10  -79.273304  \n11  -79.295849  \n12  -79.262029  \n13  -79.304302  \n14  -79.284577  \n15  -79.318389  \n16  -79.205636  \n17  -79.363452  \n18  -79.346556  \n19  -79.385975  \n20  -79.374714  \n21  -79.408493  \n22  -79.408493  \n23  -79.400049  \n24  -79.442259  \n25  -79.329656  \n26  -79.352188  \n27  -79.340923  \n28  -79.442259  \n29  -79.487262  \n..         ...  \n73  -79.428191  \n74  -79.453512  \n75  -79.422564  \n76  -79.442259  \n77  -79.419750  \n78  -79.428191  \n79  -79.490074  \n80  -79.476013  \n81  -79.487262  \n82  -79.464763  \n83  -79.456325  \n84  -79.484450  \n85  -79.389494  \n86  -79.615819  \n87  -79.321558  \n88  -79.501321  \n89  -79.543484  \n90  -79.506944  \n91  -79.498509  \n92  -79.520999  \n93  -79.532242  \n94  -79.554724  \n95  -79.577201  \n96  -79.565963  \n97  -79.532242  \n98  -79.518188  \n99  -79.532242  \n100 -79.554724  \n101 -79.588437  \n102 -79.594054  \n\n[103 rows x 6 columns]",
                        "text/html": "<div>\n<style scoped>\n    .dataframe tbody tr th:only-of-type {\n        vertical-align: middle;\n    }\n\n    .dataframe tbody tr th {\n        vertical-align: top;\n    }\n\n    .dataframe thead th {\n        text-align: right;\n    }\n</style>\n<table border=\"1\" class=\"dataframe\">\n  <thead>\n    <tr style=\"text-align: right;\">\n      <th></th>\n      <th>Postcode</th>\n      <th>Borough</th>\n      <th>Neighbourhood</th>\n      <th>Postal Code</th>\n      <th>Latitude</th>\n      <th>Longitude</th>\n    </tr>\n  </thead>\n  <tbody>\n    <tr>\n      <th>0</th>\n      <td>M1B</td>\n      <td>Scarborough</td>\n      <td>Rouge , Malvern</td>\n      <td>M1B</td>\n      <td>43.806686</td>\n      <td>-79.194353</td>\n    </tr>\n    <tr>\n      <th>1</th>\n      <td>M1C</td>\n      <td>Scarborough</td>\n      <td>Highland Creek , Rouge Hill , Port Union</td>\n      <td>M1C</td>\n      <td>43.784535</td>\n      <td>-79.160497</td>\n    </tr>\n    <tr>\n      <th>2</th>\n      <td>M1E</td>\n      <td>Scarborough</td>\n      <td>Guildwood , Morningside , West Hill</td>\n      <td>M1E</td>\n      <td>43.763573</td>\n      <td>-79.188711</td>\n    </tr>\n    <tr>\n      <th>3</th>\n      <td>M1G</td>\n      <td>Scarborough</td>\n      <td>Woburn</td>\n      <td>M1G</td>\n      <td>43.770992</td>\n      <td>-79.216917</td>\n    </tr>\n    <tr>\n      <th>4</th>\n      <td>M1H</td>\n      <td>Scarborough</td>\n      <td>Cedarbrae</td>\n      <td>M1H</td>\n      <td>43.773136</td>\n      <td>-79.239476</td>\n    </tr>\n    <tr>\n      <th>5</th>\n      <td>M1J</td>\n      <td>Scarborough</td>\n      <td>Scarborough Village</td>\n      <td>M1J</td>\n      <td>43.744734</td>\n      <td>-79.239476</td>\n    </tr>\n    <tr>\n      <th>6</th>\n      <td>M1K</td>\n      <td>Scarborough</td>\n      <td>East Birchmount Park , Ionview , Kennedy Park</td>\n      <td>M1K</td>\n      <td>43.727929</td>\n      <td>-79.262029</td>\n    </tr>\n    <tr>\n      <th>7</th>\n      <td>M1L</td>\n      <td>Scarborough</td>\n      <td>Clairlea , Golden Mile , Oakridge</td>\n      <td>M1L</td>\n      <td>43.711112</td>\n      <td>-79.284577</td>\n    </tr>\n    <tr>\n      <th>8</th>\n      <td>M1M</td>\n      <td>Scarborough</td>\n      <td>Cliffcrest , Cliffside , Scarborough Village W...</td>\n      <td>M1M</td>\n      <td>43.716316</td>\n      <td>-79.239476</td>\n    </tr>\n    <tr>\n      <th>9</th>\n      <td>M1N</td>\n      <td>Scarborough</td>\n      <td>Birch Cliff , Cliffside West</td>\n      <td>M1N</td>\n      <td>43.692657</td>\n      <td>-79.264848</td>\n    </tr>\n    <tr>\n      <th>10</th>\n      <td>M1P</td>\n      <td>Scarborough</td>\n      <td>Dorset Park , Scarborough Town Centre , Wexfor...</td>\n      <td>M1P</td>\n      <td>43.757410</td>\n      <td>-79.273304</td>\n    </tr>\n    <tr>\n      <th>11</th>\n      <td>M1R</td>\n      <td>Scarborough</td>\n      <td>Maryvale , Wexford</td>\n      <td>M1R</td>\n      <td>43.750072</td>\n      <td>-79.295849</td>\n    </tr>\n    <tr>\n      <th>12</th>\n      <td>M1S</td>\n      <td>Scarborough</td>\n      <td>Agincourt</td>\n      <td>M1S</td>\n      <td>43.794200</td>\n      <td>-79.262029</td>\n    </tr>\n    <tr>\n      <th>13</th>\n      <td>M1T</td>\n      <td>Scarborough</td>\n      <td>Clarks Corners , Sullivan , Tam O'Shanter</td>\n      <td>M1T</td>\n      <td>43.781638</td>\n      <td>-79.304302</td>\n    </tr>\n    <tr>\n      <th>14</th>\n      <td>M1V</td>\n      <td>Scarborough</td>\n      <td>Agincourt North , L'Amoreaux East , Milliken ,...</td>\n      <td>M1V</td>\n      <td>43.815252</td>\n      <td>-79.284577</td>\n    </tr>\n    <tr>\n      <th>15</th>\n      <td>M1W</td>\n      <td>Scarborough</td>\n      <td>L'Amoreaux West</td>\n      <td>M1W</td>\n      <td>43.799525</td>\n      <td>-79.318389</td>\n    </tr>\n    <tr>\n      <th>16</th>\n      <td>M1X</td>\n      <td>Scarborough</td>\n      <td>Upper Rouge</td>\n      <td>M1X</td>\n      <td>43.836125</td>\n      <td>-79.205636</td>\n    </tr>\n    <tr>\n      <th>17</th>\n      <td>M2H</td>\n      <td>North York</td>\n      <td>Hillcrest Village</td>\n      <td>M2H</td>\n      <td>43.803762</td>\n      <td>-79.363452</td>\n    </tr>\n    <tr>\n      <th>18</th>\n      <td>M2J</td>\n      <td>North York</td>\n      <td>Fairview , Henry Farm , Oriole</td>\n      <td>M2J</td>\n      <td>43.778517</td>\n      <td>-79.346556</td>\n    </tr>\n    <tr>\n      <th>19</th>\n      <td>M2K</td>\n      <td>North York</td>\n      <td>Bayview Village</td>\n      <td>M2K</td>\n      <td>43.786947</td>\n      <td>-79.385975</td>\n    </tr>\n    <tr>\n      <th>20</th>\n      <td>M2L</td>\n      <td>North York</td>\n      <td>Silver Hills , York Mills</td>\n      <td>M2L</td>\n      <td>43.757490</td>\n      <td>-79.374714</td>\n    </tr>\n    <tr>\n      <th>21</th>\n      <td>M2M</td>\n      <td>North York</td>\n      <td>Newtonbrook , Willowdale</td>\n      <td>M2M</td>\n      <td>43.789053</td>\n      <td>-79.408493</td>\n    </tr>\n    <tr>\n      <th>22</th>\n      <td>M2N</td>\n      <td>North York</td>\n      <td>Willowdale South</td>\n      <td>M2N</td>\n      <td>43.770120</td>\n      <td>-79.408493</td>\n    </tr>\n    <tr>\n      <th>23</th>\n      <td>M2P</td>\n      <td>North York</td>\n      <td>York Mills West</td>\n      <td>M2P</td>\n      <td>43.752758</td>\n      <td>-79.400049</td>\n    </tr>\n    <tr>\n      <th>24</th>\n      <td>M2R</td>\n      <td>North York</td>\n      <td>Willowdale West</td>\n      <td>M2R</td>\n      <td>43.782736</td>\n      <td>-79.442259</td>\n    </tr>\n    <tr>\n      <th>25</th>\n      <td>M3A</td>\n      <td>North York</td>\n      <td>Parkwoods</td>\n      <td>M3A</td>\n      <td>43.753259</td>\n      <td>-79.329656</td>\n    </tr>\n    <tr>\n      <th>26</th>\n      <td>M3B</td>\n      <td>North York</td>\n      <td>Don Mills North</td>\n      <td>M3B</td>\n      <td>43.745906</td>\n      <td>-79.352188</td>\n    </tr>\n    <tr>\n      <th>27</th>\n      <td>M3C</td>\n      <td>North York</td>\n      <td>Flemingdon Park , Don Mills South</td>\n      <td>M3C</td>\n      <td>43.725900</td>\n      <td>-79.340923</td>\n    </tr>\n    <tr>\n      <th>28</th>\n      <td>M3H</td>\n      <td>North York</td>\n      <td>Bathurst Manor , Downsview North , Wilson Heig...</td>\n      <td>M3H</td>\n      <td>43.754328</td>\n      <td>-79.442259</td>\n    </tr>\n    <tr>\n      <th>29</th>\n      <td>M3J</td>\n      <td>North York</td>\n      <td>Northwood Park , York University</td>\n      <td>M3J</td>\n      <td>43.767980</td>\n      <td>-79.487262</td>\n    </tr>\n    <tr>\n      <th>...</th>\n      <td>...</td>\n      <td>...</td>\n      <td>...</td>\n      <td>...</td>\n      <td>...</td>\n      <td>...</td>\n    </tr>\n    <tr>\n      <th>73</th>\n      <td>M6C</td>\n      <td>York</td>\n      <td>Humewood-Cedarvale</td>\n      <td>M6C</td>\n      <td>43.693781</td>\n      <td>-79.428191</td>\n    </tr>\n    <tr>\n      <th>74</th>\n      <td>M6E</td>\n      <td>York</td>\n      <td>Caledonia-Fairbanks</td>\n      <td>M6E</td>\n      <td>43.689026</td>\n      <td>-79.453512</td>\n    </tr>\n    <tr>\n      <th>75</th>\n      <td>M6G</td>\n      <td>Downtown Toronto</td>\n      <td>Christie</td>\n      <td>M6G</td>\n      <td>43.669542</td>\n      <td>-79.422564</td>\n    </tr>\n    <tr>\n      <th>76</th>\n      <td>M6H</td>\n      <td>West Toronto</td>\n      <td>Dovercourt Village , Dufferin</td>\n      <td>M6H</td>\n      <td>43.669005</td>\n      <td>-79.442259</td>\n    </tr>\n    <tr>\n      <th>77</th>\n      <td>M6J</td>\n      <td>West Toronto</td>\n      <td>Little Portugal , Trinity</td>\n      <td>M6J</td>\n      <td>43.647927</td>\n      <td>-79.419750</td>\n    </tr>\n    <tr>\n      <th>78</th>\n      <td>M6K</td>\n      <td>West Toronto</td>\n      <td>Brockton , Exhibition Place , Parkdale Village</td>\n      <td>M6K</td>\n      <td>43.636847</td>\n      <td>-79.428191</td>\n    </tr>\n    <tr>\n      <th>79</th>\n      <td>M6L</td>\n      <td>North York</td>\n      <td>Downsview , North Park , Upwood Park</td>\n      <td>M6L</td>\n      <td>43.713756</td>\n      <td>-79.490074</td>\n    </tr>\n    <tr>\n      <th>80</th>\n      <td>M6M</td>\n      <td>York</td>\n      <td>Del Ray , Keelesdale , Mount Dennis , Silverth...</td>\n      <td>M6M</td>\n      <td>43.691116</td>\n      <td>-79.476013</td>\n    </tr>\n    <tr>\n      <th>81</th>\n      <td>M6N</td>\n      <td>York</td>\n      <td>The Junction North , Runnymede</td>\n      <td>M6N</td>\n      <td>43.673185</td>\n      <td>-79.487262</td>\n    </tr>\n    <tr>\n      <th>82</th>\n      <td>M6P</td>\n      <td>West Toronto</td>\n      <td>High Park , The Junction South</td>\n      <td>M6P</td>\n      <td>43.661608</td>\n      <td>-79.464763</td>\n    </tr>\n    <tr>\n      <th>83</th>\n      <td>M6R</td>\n      <td>West Toronto</td>\n      <td>Parkdale , Roncesvalles</td>\n      <td>M6R</td>\n      <td>43.648960</td>\n      <td>-79.456325</td>\n    </tr>\n    <tr>\n      <th>84</th>\n      <td>M6S</td>\n      <td>West Toronto</td>\n      <td>Runnymede , Swansea</td>\n      <td>M6S</td>\n      <td>43.651571</td>\n      <td>-79.484450</td>\n    </tr>\n    <tr>\n      <th>85</th>\n      <td>M7A</td>\n      <td>Downtown Toronto</td>\n      <td>Queen's Park</td>\n      <td>M7A</td>\n      <td>43.662301</td>\n      <td>-79.389494</td>\n    </tr>\n    <tr>\n      <th>86</th>\n      <td>M7R</td>\n      <td>Mississauga</td>\n      <td>Canada Post Gateway Processing Centre</td>\n      <td>M7R</td>\n      <td>43.636966</td>\n      <td>-79.615819</td>\n    </tr>\n    <tr>\n      <th>87</th>\n      <td>M7Y</td>\n      <td>East Toronto</td>\n      <td>Business Reply Mail Processing Centre 969 East...</td>\n      <td>M7Y</td>\n      <td>43.662744</td>\n      <td>-79.321558</td>\n    </tr>\n    <tr>\n      <th>88</th>\n      <td>M8V</td>\n      <td>Etobicoke</td>\n      <td>Humber Bay Shores , Mimico South , New Toronto</td>\n      <td>M8V</td>\n      <td>43.605647</td>\n      <td>-79.501321</td>\n    </tr>\n    <tr>\n      <th>89</th>\n      <td>M8W</td>\n      <td>Etobicoke</td>\n      <td>Alderwood , Long Branch</td>\n      <td>M8W</td>\n      <td>43.602414</td>\n      <td>-79.543484</td>\n    </tr>\n    <tr>\n      <th>90</th>\n      <td>M8X</td>\n      <td>Etobicoke</td>\n      <td>The Kingsway , Montgomery Road , Old Mill North</td>\n      <td>M8X</td>\n      <td>43.653654</td>\n      <td>-79.506944</td>\n    </tr>\n    <tr>\n      <th>91</th>\n      <td>M8Y</td>\n      <td>Etobicoke</td>\n      <td>Humber Bay , King's Mill Park , Kingsway Park ...</td>\n      <td>M8Y</td>\n      <td>43.636258</td>\n      <td>-79.498509</td>\n    </tr>\n    <tr>\n      <th>92</th>\n      <td>M8Z</td>\n      <td>Etobicoke</td>\n      <td>Kingsway Park South West , Mimico NW , The Que...</td>\n      <td>M8Z</td>\n      <td>43.628841</td>\n      <td>-79.520999</td>\n    </tr>\n    <tr>\n      <th>93</th>\n      <td>M9A</td>\n      <td>Queen's Park</td>\n      <td>Queen's Park</td>\n      <td>M9A</td>\n      <td>43.667856</td>\n      <td>-79.532242</td>\n    </tr>\n    <tr>\n      <th>94</th>\n      <td>M9B</td>\n      <td>Etobicoke</td>\n      <td>Cloverdale , Islington , Martin Grove , Prince...</td>\n      <td>M9B</td>\n      <td>43.650943</td>\n      <td>-79.554724</td>\n    </tr>\n    <tr>\n      <th>95</th>\n      <td>M9C</td>\n      <td>Etobicoke</td>\n      <td>Bloordale Gardens , Eringate , Markland Wood ,...</td>\n      <td>M9C</td>\n      <td>43.643515</td>\n      <td>-79.577201</td>\n    </tr>\n    <tr>\n      <th>96</th>\n      <td>M9L</td>\n      <td>North York</td>\n      <td>Humber Summit</td>\n      <td>M9L</td>\n      <td>43.756303</td>\n      <td>-79.565963</td>\n    </tr>\n    <tr>\n      <th>97</th>\n      <td>M9M</td>\n      <td>North York</td>\n      <td>Emery , Humberlea</td>\n      <td>M9M</td>\n      <td>43.724766</td>\n      <td>-79.532242</td>\n    </tr>\n    <tr>\n      <th>98</th>\n      <td>M9N</td>\n      <td>York</td>\n      <td>Weston</td>\n      <td>M9N</td>\n      <td>43.706876</td>\n      <td>-79.518188</td>\n    </tr>\n    <tr>\n      <th>99</th>\n      <td>M9P</td>\n      <td>Etobicoke</td>\n      <td>Westmount</td>\n      <td>M9P</td>\n      <td>43.696319</td>\n      <td>-79.532242</td>\n    </tr>\n    <tr>\n      <th>100</th>\n      <td>M9R</td>\n      <td>Etobicoke</td>\n      <td>Kingsview Village , Martin Grove Gardens , Ric...</td>\n      <td>M9R</td>\n      <td>43.688905</td>\n      <td>-79.554724</td>\n    </tr>\n    <tr>\n      <th>101</th>\n      <td>M9V</td>\n      <td>Etobicoke</td>\n      <td>Albion Gardens , Beaumond Heights , Humbergate...</td>\n      <td>M9V</td>\n      <td>43.739416</td>\n      <td>-79.588437</td>\n    </tr>\n    <tr>\n      <th>102</th>\n      <td>M9W</td>\n      <td>Etobicoke</td>\n      <td>Northwest</td>\n      <td>M9W</td>\n      <td>43.706748</td>\n      <td>-79.594054</td>\n    </tr>\n  </tbody>\n</table>\n<p>103 rows \u00d7 6 columns</p>\n</div>"
                    },
                    "metadata": {}
                }
            ]
        },
        {
            "metadata": {},
            "cell_type": "code",
            "source": "",
            "execution_count": null,
            "outputs": []
        },
        {
            "metadata": {},
            "cell_type": "code",
            "source": "",
            "execution_count": null,
            "outputs": []
        }
    ],
    "metadata": {
        "kernelspec": {
            "name": "python3",
            "display_name": "Python 3.6",
            "language": "python"
        },
        "language_info": {
            "name": "python",
            "version": "3.6.9",
            "mimetype": "text/x-python",
            "codemirror_mode": {
                "name": "ipython",
                "version": 3
            },
            "pygments_lexer": "ipython3",
            "nbconvert_exporter": "python",
            "file_extension": ".py"
        }
    },
    "nbformat": 4,
    "nbformat_minor": 1
}