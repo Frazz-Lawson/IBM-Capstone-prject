{
    "cells": [
        {
            "cell_type": "markdown",
            "metadata": {
                "collapsed": true
            },
            "source": "# Edinburgh Yoga Studio Location Analysis"
        },
        {
            "cell_type": "markdown",
            "metadata": {},
            "source": "This notebook has been created to help the selection of a suitable area in Edinburgh, Scotland, to locate a new yoga studio business. \n\nThis notebook will leverage location data from foursquare to analyse destricts of Edinburgh which already have access to a nearby Yoga studio,\nin order to identify a gap in the market. Idealy the new studio would be opened in an area which has few or no studios currently in order to maximise\nthe market size that the business can capture. "
        },
        {
            "cell_type": "markdown",
            "metadata": {},
            "source": "## Background\n\nEdinburgh is the metropolitan capital of Scotland, (currently) part of the United Kingdom. The city is an economic and cultural hub and attracts many young, highly educated professionals. The city is home to the University of Edinburgh, one of the world's top 20 ranked universities according to the QS world university rankings. The city's population is growing rapidly as it is seen as an ttractive location for both students and working families. Due to this growth in the city, some previously poor areas of the city are gentrifying as demographics shift and new business opportunities arise.\n\n### Data\n\n- Edinburgh Districts Data: This file contains a list of Edinburgh city postal codes and the names of the districts in those postalcodes. /n\n- UKpostcodes data: This file contains latitude and longitude values for postocdes accross the whole of the UK. We will need to search through this data for Edinburgh postcodes. /n\n- Foursquare API: We will extract location data from this API to investigate and cluster the different districts in Edinburgh based on their current ammenities. /n"
        },
        {
            "cell_type": "code",
            "execution_count": null,
            "metadata": {},
            "outputs": [],
            "source": ""
        },
        {
            "cell_type": "code",
            "execution_count": null,
            "metadata": {},
            "outputs": [],
            "source": ""
        }
    ],
    "metadata": {
        "kernelspec": {
            "display_name": "Python 3.6",
            "language": "python",
            "name": "python3"
        },
        "language_info": {
            "codemirror_mode": {
                "name": "ipython",
                "version": 3
            },
            "file_extension": ".py",
            "mimetype": "text/x-python",
            "name": "python",
            "nbconvert_exporter": "python",
            "pygments_lexer": "ipython3",
            "version": "3.6.9"
        }
    },
    "nbformat": 4,
    "nbformat_minor": 1
}